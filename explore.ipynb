{
 "cells": [
  {
   "cell_type": "code",
   "execution_count": 1,
   "metadata": {
    "collapsed": true
   },
   "outputs": [],
   "source": [
    "%matplotlib inline\n",
    "\n",
    "import pandas as pd \n",
    "import numpy as np"
   ]
  },
  {
   "cell_type": "code",
   "execution_count": 2,
   "metadata": {
    "collapsed": true
   },
   "outputs": [],
   "source": [
    "df_trips = pd.read_csv(\"data/generated-marketplace-trips.csv\")\n",
    "df_passengers = pd.read_csv(\"data/generated-marketplace-passengers.csv\")\n",
    "df_pilots = pd.read_csv(\"data/generated-marketplace-pilots.csv\")\n",
    "df_planets = pd.read_csv(\"data/generated-marketplace-planets.csv\")"
   ]
  },
  {
   "cell_type": "markdown",
   "metadata": {},
   "source": [
    "### misc"
   ]
  },
  {
   "cell_type": "code",
   "execution_count": 3,
   "metadata": {
    "collapsed": true
   },
   "outputs": [],
   "source": [
    "planet_names = np.append(df_planets[\"name\"].values, \"All\")\n",
    "planet_options = [{\"label\": p, \"value\": p.lower()} for p in planet_names]\n",
    "\n",
    "user_types = [\"Pilot\", \"Passenger\"]\n",
    "user_options = [{\"label\": t, \"value\": t.lower()} for t in user_types]\n",
    "df_trips[\"trip_requested_dt\"] = pd.to_datetime(df_trips[\"trip_requested\"], unit=\"s\")\n",
    "df_trips[\"trip_requested_month\"] = df_trips[\"trip_requested_dt\"].dt.month\n",
    "trips_months = np.sort(df_trips[\"trip_requested_month\"].unique())\n",
    "month_options = {str(m): str(m) for m in trips_months}\n",
    "min_month = trips_months.min()\n",
    "max_month = trips_months.max()\n",
    "\n",
    "df_trips_week = df_trips[\"trip_requested_dt\"].dt.week\n",
    "df_trips_week = df_trips_week.value_counts().sort_index()"
   ]
  },
  {
   "cell_type": "markdown",
   "metadata": {},
   "source": [
    "### get_month_summary"
   ]
  },
  {
   "cell_type": "code",
   "execution_count": 4,
   "metadata": {},
   "outputs": [],
   "source": [
    "def get_month_summary(df, month):\n",
    "    trips, pilots, passengers = None, None, None\n",
    "    if month in list(df[\"trip_requested_month\"]): # compare with list because `0 in series` returns True\n",
    "        dff = df[df[\"trip_requested_month\"] == month]\n",
    "        trips = len(dff)\n",
    "        pilots = len(dff[\"pilot\"].unique())\n",
    "        passengers = len(dff[\"passenger\"].unique())\n",
    "    return np.array([trips, pilots, passengers])"
   ]
  },
  {
   "cell_type": "code",
   "execution_count": 5,
   "metadata": {},
   "outputs": [
    {
     "name": "stdout",
     "output_type": "stream",
     "text": [
      "[None None None]\n",
      "[None None None]\n",
      "[1 1 1]\n",
      "[8 7 7]\n",
      "[4200  100  966]\n",
      "[None None None]\n"
     ]
    }
   ],
   "source": [
    "print(get_month_summary(df_trips, -1))\n",
    "print(get_month_summary(df_trips, 0))\n",
    "print(get_month_summary(df_trips, 1))\n",
    "print(get_month_summary(df_trips, 2))\n",
    "print(get_month_summary(df_trips, 12))\n",
    "print(get_month_summary(df_trips, 13))"
   ]
  },
  {
   "cell_type": "markdown",
   "metadata": {},
   "source": [
    "### generate_summary_table"
   ]
  },
  {
   "cell_type": "code",
   "execution_count": 6,
   "metadata": {},
   "outputs": [],
   "source": [
    "def generate_summary_table(df, month):\n",
    "    cm = get_month_summary(df_trips, month)\n",
    "    pm = get_month_summary(df_trips, month - 1)\n",
    "    df = pd.DataFrame({\n",
    "        \"Current\": cm, \"Previous\": pm if pm[0] else \"-\", \n",
    "        \"M/M Change\": np.round((cm * 1.0 / pm), 2) if pm[0] else \"-\"\n",
    "    }, index=[\"Trips\", \"Pilots\", \"Passengers\"],\n",
    "    columns=[\"Current\", \"Previous\", \"M/M Change\"])\n",
    "    return df"
   ]
  },
  {
   "cell_type": "code",
   "execution_count": 7,
   "metadata": {},
   "outputs": [
    {
     "data": {
      "text/html": [
       "<div>\n",
       "<style>\n",
       "    .dataframe thead tr:only-child th {\n",
       "        text-align: right;\n",
       "    }\n",
       "\n",
       "    .dataframe thead th {\n",
       "        text-align: left;\n",
       "    }\n",
       "\n",
       "    .dataframe tbody tr th {\n",
       "        vertical-align: top;\n",
       "    }\n",
       "</style>\n",
       "<table border=\"1\" class=\"dataframe\">\n",
       "  <thead>\n",
       "    <tr style=\"text-align: right;\">\n",
       "      <th></th>\n",
       "      <th>Current</th>\n",
       "      <th>Previous</th>\n",
       "      <th>M/M Change</th>\n",
       "    </tr>\n",
       "  </thead>\n",
       "  <tbody>\n",
       "    <tr>\n",
       "      <th>Trips</th>\n",
       "      <td>None</td>\n",
       "      <td>-</td>\n",
       "      <td>-</td>\n",
       "    </tr>\n",
       "    <tr>\n",
       "      <th>Pilots</th>\n",
       "      <td>None</td>\n",
       "      <td>-</td>\n",
       "      <td>-</td>\n",
       "    </tr>\n",
       "    <tr>\n",
       "      <th>Passengers</th>\n",
       "      <td>None</td>\n",
       "      <td>-</td>\n",
       "      <td>-</td>\n",
       "    </tr>\n",
       "  </tbody>\n",
       "</table>\n",
       "</div>"
      ],
      "text/plain": [
       "           Current Previous M/M Change\n",
       "Trips         None        -          -\n",
       "Pilots        None        -          -\n",
       "Passengers    None        -          -"
      ]
     },
     "execution_count": 7,
     "metadata": {},
     "output_type": "execute_result"
    }
   ],
   "source": [
    "generate_summary_table(df_trips, 0)"
   ]
  },
  {
   "cell_type": "code",
   "execution_count": 8,
   "metadata": {},
   "outputs": [
    {
     "data": {
      "text/html": [
       "<div>\n",
       "<style>\n",
       "    .dataframe thead tr:only-child th {\n",
       "        text-align: right;\n",
       "    }\n",
       "\n",
       "    .dataframe thead th {\n",
       "        text-align: left;\n",
       "    }\n",
       "\n",
       "    .dataframe tbody tr th {\n",
       "        vertical-align: top;\n",
       "    }\n",
       "</style>\n",
       "<table border=\"1\" class=\"dataframe\">\n",
       "  <thead>\n",
       "    <tr style=\"text-align: right;\">\n",
       "      <th></th>\n",
       "      <th>Current</th>\n",
       "      <th>Previous</th>\n",
       "      <th>M/M Change</th>\n",
       "    </tr>\n",
       "  </thead>\n",
       "  <tbody>\n",
       "    <tr>\n",
       "      <th>Trips</th>\n",
       "      <td>53</td>\n",
       "      <td>8</td>\n",
       "      <td>6.62</td>\n",
       "    </tr>\n",
       "    <tr>\n",
       "      <th>Pilots</th>\n",
       "      <td>19</td>\n",
       "      <td>7</td>\n",
       "      <td>2.71</td>\n",
       "    </tr>\n",
       "    <tr>\n",
       "      <th>Passengers</th>\n",
       "      <td>44</td>\n",
       "      <td>7</td>\n",
       "      <td>6.29</td>\n",
       "    </tr>\n",
       "  </tbody>\n",
       "</table>\n",
       "</div>"
      ],
      "text/plain": [
       "            Current  Previous  M/M Change\n",
       "Trips            53         8        6.62\n",
       "Pilots           19         7        2.71\n",
       "Passengers       44         7        6.29"
      ]
     },
     "execution_count": 8,
     "metadata": {},
     "output_type": "execute_result"
    }
   ],
   "source": [
    "generate_summary_table(df_trips, 3)"
   ]
  },
  {
   "cell_type": "code",
   "execution_count": 9,
   "metadata": {},
   "outputs": [
    {
     "data": {
      "text/html": [
       "<div>\n",
       "<style>\n",
       "    .dataframe thead tr:only-child th {\n",
       "        text-align: right;\n",
       "    }\n",
       "\n",
       "    .dataframe thead th {\n",
       "        text-align: left;\n",
       "    }\n",
       "\n",
       "    .dataframe tbody tr th {\n",
       "        vertical-align: top;\n",
       "    }\n",
       "</style>\n",
       "<table border=\"1\" class=\"dataframe\">\n",
       "  <thead>\n",
       "    <tr style=\"text-align: right;\">\n",
       "      <th></th>\n",
       "      <th>Current</th>\n",
       "      <th>Previous</th>\n",
       "      <th>M/M Change</th>\n",
       "    </tr>\n",
       "  </thead>\n",
       "  <tbody>\n",
       "    <tr>\n",
       "      <th>Trips</th>\n",
       "      <td>4200</td>\n",
       "      <td>1968</td>\n",
       "      <td>2.13</td>\n",
       "    </tr>\n",
       "    <tr>\n",
       "      <th>Pilots</th>\n",
       "      <td>100</td>\n",
       "      <td>92</td>\n",
       "      <td>1.09</td>\n",
       "    </tr>\n",
       "    <tr>\n",
       "      <th>Passengers</th>\n",
       "      <td>966</td>\n",
       "      <td>746</td>\n",
       "      <td>1.29</td>\n",
       "    </tr>\n",
       "  </tbody>\n",
       "</table>\n",
       "</div>"
      ],
      "text/plain": [
       "            Current  Previous  M/M Change\n",
       "Trips          4200      1968        2.13\n",
       "Pilots          100        92        1.09\n",
       "Passengers      966       746        1.29"
      ]
     },
     "execution_count": 9,
     "metadata": {},
     "output_type": "execute_result"
    }
   ],
   "source": [
    "generate_summary_table(df_trips, 12)"
   ]
  },
  {
   "cell_type": "code",
   "execution_count": null,
   "metadata": {
    "collapsed": true
   },
   "outputs": [],
   "source": []
  }
 ],
 "metadata": {
  "kernelspec": {
   "display_name": "Python 2",
   "language": "python",
   "name": "python2"
  },
  "language_info": {
   "codemirror_mode": {
    "name": "ipython",
    "version": 2
   },
   "file_extension": ".py",
   "mimetype": "text/x-python",
   "name": "python",
   "nbconvert_exporter": "python",
   "pygments_lexer": "ipython2",
   "version": "2.7.14"
  }
 },
 "nbformat": 4,
 "nbformat_minor": 2
}

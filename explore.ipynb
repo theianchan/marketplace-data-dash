{
 "cells": [
  {
   "cell_type": "code",
   "execution_count": 1,
   "metadata": {
    "collapsed": true
   },
   "outputs": [],
   "source": [
    "%matplotlib inline\n",
    "\n",
    "import pandas as pd \n",
    "import numpy as np"
   ]
  },
  {
   "cell_type": "code",
   "execution_count": 2,
   "metadata": {
    "collapsed": true
   },
   "outputs": [],
   "source": [
    "df_trips = pd.read_csv(\"data/generated-marketplace-trips.csv\")\n",
    "df_passengers = pd.read_csv(\"data/generated-marketplace-passengers.csv\")\n",
    "df_pilots = pd.read_csv(\"data/generated-marketplace-pilots.csv\")\n",
    "df_planets = pd.read_csv(\"data/generated-marketplace-planets.csv\")"
   ]
  },
  {
   "cell_type": "markdown",
   "metadata": {},
   "source": [
    "## misc"
   ]
  },
  {
   "cell_type": "code",
   "execution_count": 3,
   "metadata": {
    "collapsed": true
   },
   "outputs": [],
   "source": [
    "planet_names = np.append(df_planets[\"name\"].values, \"All\")\n",
    "planet_options = [{\"label\": p, \"value\": p.lower()} for p in planet_names]\n",
    "\n",
    "user_types = [\"Pilot\", \"Passenger\"]\n",
    "user_options = [{\"label\": t, \"value\": t.lower()} for t in user_types]\n",
    "\n",
    "df_trips[\"trip_requested_dt\"] = pd.to_datetime(df_trips[\"trip_requested\"], unit=\"s\")\n",
    "df_trips[\"trip_requested_month\"] = df_trips[\"trip_requested_dt\"].dt.month\n",
    "trips_months = np.sort(df_trips[\"trip_requested_month\"].unique())\n",
    "month_options = {str(m): str(m) for m in trips_months}\n",
    "min_month = trips_months.min()\n",
    "max_month = trips_months.max()\n",
    "\n",
    "df_trips_week = df_trips[\"trip_requested_dt\"].dt.week\n",
    "df_trips_week = df_trips_week.value_counts().sort_index()\n",
    "\n",
    "df_trips[\"trip_duration\"] = df_trips[\"trip_ended\"] - df_trips[\"trip_started\"]"
   ]
  },
  {
   "cell_type": "code",
   "execution_count": 4,
   "metadata": {
    "collapsed": true
   },
   "outputs": [],
   "source": [
    "def id_to_planet(ids):\n",
    "    return df_planets.iloc[ids][\"name\"].values"
   ]
  },
  {
   "cell_type": "markdown",
   "metadata": {},
   "source": [
    "## get_month_summary"
   ]
  },
  {
   "cell_type": "code",
   "execution_count": 5,
   "metadata": {
    "collapsed": true
   },
   "outputs": [],
   "source": [
    "def get_month_summary(df, month):\n",
    "    trips, pilots, passengers = None, None, None\n",
    "    if month in list(df[\"trip_requested_month\"]): # compare with list because `0 in series` returns True\n",
    "        dff = df[df[\"trip_requested_month\"] == month]\n",
    "        trips = len(dff)\n",
    "        pilots = len(dff[\"pilot\"].unique())\n",
    "        passengers = len(dff[\"passenger\"].unique())\n",
    "    return np.array([trips, pilots, passengers])"
   ]
  },
  {
   "cell_type": "markdown",
   "metadata": {},
   "source": [
    "### show tests"
   ]
  },
  {
   "cell_type": "code",
   "execution_count": 6,
   "metadata": {},
   "outputs": [
    {
     "name": "stdout",
     "output_type": "stream",
     "text": [
      "[None None None]\n",
      "[None None None]\n",
      "[1 1 1]\n",
      "[8 7 7]\n",
      "[4200  100  966]\n",
      "[None None None]\n"
     ]
    }
   ],
   "source": [
    "print(get_month_summary(df_trips, -1))\n",
    "print(get_month_summary(df_trips, 0))\n",
    "print(get_month_summary(df_trips, 1))\n",
    "print(get_month_summary(df_trips, 2))\n",
    "print(get_month_summary(df_trips, 12))\n",
    "print(get_month_summary(df_trips, 13))"
   ]
  },
  {
   "cell_type": "markdown",
   "metadata": {},
   "source": [
    "## generate_summary_table"
   ]
  },
  {
   "cell_type": "code",
   "execution_count": 7,
   "metadata": {
    "collapsed": true
   },
   "outputs": [],
   "source": [
    "def generate_summary_table(df, month):\n",
    "    cm = get_month_summary(df_trips, month)\n",
    "    pm = get_month_summary(df_trips, month - 1)\n",
    "    df = pd.DataFrame({\n",
    "        \"Current\": cm, \"Previous\": pm if pm[0] else \"-\", \n",
    "        \"M/M Change\": np.round((cm * 1.0 / pm), 2) if pm[0] else \"-\"\n",
    "    }, index=[\"Trips\", \"Pilots\", \"Passengers\"],\n",
    "    columns=[\"Current\", \"Previous\", \"M/M Change\"])\n",
    "    return df"
   ]
  },
  {
   "cell_type": "markdown",
   "metadata": {},
   "source": [
    "### show tests"
   ]
  },
  {
   "cell_type": "code",
   "execution_count": 8,
   "metadata": {},
   "outputs": [
    {
     "data": {
      "text/html": [
       "<div>\n",
       "<style>\n",
       "    .dataframe thead tr:only-child th {\n",
       "        text-align: right;\n",
       "    }\n",
       "\n",
       "    .dataframe thead th {\n",
       "        text-align: left;\n",
       "    }\n",
       "\n",
       "    .dataframe tbody tr th {\n",
       "        vertical-align: top;\n",
       "    }\n",
       "</style>\n",
       "<table border=\"1\" class=\"dataframe\">\n",
       "  <thead>\n",
       "    <tr style=\"text-align: right;\">\n",
       "      <th></th>\n",
       "      <th>Current</th>\n",
       "      <th>Previous</th>\n",
       "      <th>M/M Change</th>\n",
       "    </tr>\n",
       "  </thead>\n",
       "  <tbody>\n",
       "    <tr>\n",
       "      <th>Trips</th>\n",
       "      <td>None</td>\n",
       "      <td>-</td>\n",
       "      <td>-</td>\n",
       "    </tr>\n",
       "    <tr>\n",
       "      <th>Pilots</th>\n",
       "      <td>None</td>\n",
       "      <td>-</td>\n",
       "      <td>-</td>\n",
       "    </tr>\n",
       "    <tr>\n",
       "      <th>Passengers</th>\n",
       "      <td>None</td>\n",
       "      <td>-</td>\n",
       "      <td>-</td>\n",
       "    </tr>\n",
       "  </tbody>\n",
       "</table>\n",
       "</div>"
      ],
      "text/plain": [
       "           Current Previous M/M Change\n",
       "Trips         None        -          -\n",
       "Pilots        None        -          -\n",
       "Passengers    None        -          -"
      ]
     },
     "execution_count": 8,
     "metadata": {},
     "output_type": "execute_result"
    }
   ],
   "source": [
    "generate_summary_table(df_trips, 0)"
   ]
  },
  {
   "cell_type": "code",
   "execution_count": 9,
   "metadata": {},
   "outputs": [
    {
     "data": {
      "text/html": [
       "<div>\n",
       "<style>\n",
       "    .dataframe thead tr:only-child th {\n",
       "        text-align: right;\n",
       "    }\n",
       "\n",
       "    .dataframe thead th {\n",
       "        text-align: left;\n",
       "    }\n",
       "\n",
       "    .dataframe tbody tr th {\n",
       "        vertical-align: top;\n",
       "    }\n",
       "</style>\n",
       "<table border=\"1\" class=\"dataframe\">\n",
       "  <thead>\n",
       "    <tr style=\"text-align: right;\">\n",
       "      <th></th>\n",
       "      <th>Current</th>\n",
       "      <th>Previous</th>\n",
       "      <th>M/M Change</th>\n",
       "    </tr>\n",
       "  </thead>\n",
       "  <tbody>\n",
       "    <tr>\n",
       "      <th>Trips</th>\n",
       "      <td>53</td>\n",
       "      <td>8</td>\n",
       "      <td>6.62</td>\n",
       "    </tr>\n",
       "    <tr>\n",
       "      <th>Pilots</th>\n",
       "      <td>19</td>\n",
       "      <td>7</td>\n",
       "      <td>2.71</td>\n",
       "    </tr>\n",
       "    <tr>\n",
       "      <th>Passengers</th>\n",
       "      <td>44</td>\n",
       "      <td>7</td>\n",
       "      <td>6.29</td>\n",
       "    </tr>\n",
       "  </tbody>\n",
       "</table>\n",
       "</div>"
      ],
      "text/plain": [
       "            Current  Previous  M/M Change\n",
       "Trips            53         8        6.62\n",
       "Pilots           19         7        2.71\n",
       "Passengers       44         7        6.29"
      ]
     },
     "execution_count": 9,
     "metadata": {},
     "output_type": "execute_result"
    }
   ],
   "source": [
    "generate_summary_table(df_trips, 3)"
   ]
  },
  {
   "cell_type": "code",
   "execution_count": 10,
   "metadata": {},
   "outputs": [
    {
     "data": {
      "text/html": [
       "<div>\n",
       "<style>\n",
       "    .dataframe thead tr:only-child th {\n",
       "        text-align: right;\n",
       "    }\n",
       "\n",
       "    .dataframe thead th {\n",
       "        text-align: left;\n",
       "    }\n",
       "\n",
       "    .dataframe tbody tr th {\n",
       "        vertical-align: top;\n",
       "    }\n",
       "</style>\n",
       "<table border=\"1\" class=\"dataframe\">\n",
       "  <thead>\n",
       "    <tr style=\"text-align: right;\">\n",
       "      <th></th>\n",
       "      <th>Current</th>\n",
       "      <th>Previous</th>\n",
       "      <th>M/M Change</th>\n",
       "    </tr>\n",
       "  </thead>\n",
       "  <tbody>\n",
       "    <tr>\n",
       "      <th>Trips</th>\n",
       "      <td>4200</td>\n",
       "      <td>1968</td>\n",
       "      <td>2.13</td>\n",
       "    </tr>\n",
       "    <tr>\n",
       "      <th>Pilots</th>\n",
       "      <td>100</td>\n",
       "      <td>92</td>\n",
       "      <td>1.09</td>\n",
       "    </tr>\n",
       "    <tr>\n",
       "      <th>Passengers</th>\n",
       "      <td>966</td>\n",
       "      <td>746</td>\n",
       "      <td>1.29</td>\n",
       "    </tr>\n",
       "  </tbody>\n",
       "</table>\n",
       "</div>"
      ],
      "text/plain": [
       "            Current  Previous  M/M Change\n",
       "Trips          4200      1968        2.13\n",
       "Pilots          100        92        1.09\n",
       "Passengers      966       746        1.29"
      ]
     },
     "execution_count": 10,
     "metadata": {},
     "output_type": "execute_result"
    }
   ],
   "source": [
    "generate_summary_table(df_trips, 12)"
   ]
  },
  {
   "cell_type": "markdown",
   "metadata": {},
   "source": [
    "## filter_df"
   ]
  },
  {
   "cell_type": "code",
   "execution_count": 11,
   "metadata": {
    "collapsed": true
   },
   "outputs": [],
   "source": [
    "def filter_df(df, month=\"all\", planet=\"all\"):\n",
    "    dff = df.copy(deep=True)\n",
    "    dff.loc[:, \"planet\"] = id_to_planet(dff[\"planet\"])\n",
    "    dff = dff[dff[\"trip_requested_month\"] == month] if month != \"all\" else dff\n",
    "    dff = dff[dff[\"planet\"].str.lower() == planet] if planet != \"all\" else dff\n",
    "    return dff"
   ]
  },
  {
   "cell_type": "markdown",
   "metadata": {},
   "source": [
    "### show tests"
   ]
  },
  {
   "cell_type": "code",
   "execution_count": 12,
   "metadata": {},
   "outputs": [
    {
     "data": {
      "text/html": [
       "<div>\n",
       "<style>\n",
       "    .dataframe thead tr:only-child th {\n",
       "        text-align: right;\n",
       "    }\n",
       "\n",
       "    .dataframe thead th {\n",
       "        text-align: left;\n",
       "    }\n",
       "\n",
       "    .dataframe tbody tr th {\n",
       "        vertical-align: top;\n",
       "    }\n",
       "</style>\n",
       "<table border=\"1\" class=\"dataframe\">\n",
       "  <thead>\n",
       "    <tr style=\"text-align: right;\">\n",
       "      <th></th>\n",
       "      <th>planet</th>\n",
       "      <th>trip_requested_month</th>\n",
       "    </tr>\n",
       "  </thead>\n",
       "  <tbody>\n",
       "    <tr>\n",
       "      <th>0</th>\n",
       "      <td>Coruscant</td>\n",
       "      <td>12</td>\n",
       "    </tr>\n",
       "    <tr>\n",
       "      <th>1</th>\n",
       "      <td>Duro</td>\n",
       "      <td>10</td>\n",
       "    </tr>\n",
       "    <tr>\n",
       "      <th>2</th>\n",
       "      <td>Hosnian Prime</td>\n",
       "      <td>12</td>\n",
       "    </tr>\n",
       "  </tbody>\n",
       "</table>\n",
       "</div>"
      ],
      "text/plain": [
       "          planet  trip_requested_month\n",
       "0      Coruscant                    12\n",
       "1           Duro                    10\n",
       "2  Hosnian Prime                    12"
      ]
     },
     "execution_count": 12,
     "metadata": {},
     "output_type": "execute_result"
    }
   ],
   "source": [
    "filter_df(df_trips[[\"planet\", \"trip_requested_month\"]]).head(3)"
   ]
  },
  {
   "cell_type": "code",
   "execution_count": 13,
   "metadata": {},
   "outputs": [
    {
     "data": {
      "text/html": [
       "<div>\n",
       "<style>\n",
       "    .dataframe thead tr:only-child th {\n",
       "        text-align: right;\n",
       "    }\n",
       "\n",
       "    .dataframe thead th {\n",
       "        text-align: left;\n",
       "    }\n",
       "\n",
       "    .dataframe tbody tr th {\n",
       "        vertical-align: top;\n",
       "    }\n",
       "</style>\n",
       "<table border=\"1\" class=\"dataframe\">\n",
       "  <thead>\n",
       "    <tr style=\"text-align: right;\">\n",
       "      <th></th>\n",
       "      <th>planet</th>\n",
       "      <th>trip_requested_month</th>\n",
       "    </tr>\n",
       "  </thead>\n",
       "  <tbody>\n",
       "    <tr>\n",
       "      <th>1020</th>\n",
       "      <td>Coruscant</td>\n",
       "      <td>1</td>\n",
       "    </tr>\n",
       "  </tbody>\n",
       "</table>\n",
       "</div>"
      ],
      "text/plain": [
       "         planet  trip_requested_month\n",
       "1020  Coruscant                     1"
      ]
     },
     "execution_count": 13,
     "metadata": {},
     "output_type": "execute_result"
    }
   ],
   "source": [
    "filter_df(df_trips[[\"planet\", \"trip_requested_month\"]], planet=\"coruscant\", month=1).head(3)"
   ]
  },
  {
   "cell_type": "markdown",
   "metadata": {},
   "source": [
    "## get_table_pilots"
   ]
  },
  {
   "cell_type": "code",
   "execution_count": 14,
   "metadata": {
    "collapsed": true
   },
   "outputs": [],
   "source": [
    "filtered_columns = [\n",
    "    \"pilot\", \"planet\", \"trip_completed\", \"trip_duration\",\n",
    "    \"price\", \"pilot_rating\"\n",
    "]"
   ]
  },
  {
   "cell_type": "code",
   "execution_count": 15,
   "metadata": {
    "collapsed": true
   },
   "outputs": [],
   "source": [
    "def pad_df(df, columns, size, spacer=\"-\"):\n",
    "    blanks = [spacer for i in range(size)]\n",
    "    dff = pd.DataFrame({i: blanks for i in columns})\n",
    "    for idx, row in df[:min(size, len(df))].iterrows():\n",
    "        dff.iloc[idx, :] = row\n",
    "    return dff"
   ]
  },
  {
   "cell_type": "code",
   "execution_count": 16,
   "metadata": {
    "collapsed": true
   },
   "outputs": [],
   "source": [
    "def get_table_pilots(df, month=\"all\", planet=\"all\", top=3):\n",
    "    \"\"\"Returns an html.Table object containing pilot statistics,\n",
    "    filtered by month and planet.\"\"\"\n",
    "\n",
    "    filtered_columns = [\n",
    "        \"pilot\", \"planet\", \"trip_completed\", \"trip_duration\",\n",
    "        \"price\", \"pilot_rating\"\n",
    "    ]\n",
    "\n",
    "    dff = df.copy(deep=True)\n",
    "    dff = filter_df(dff, month=month, planet=planet)\n",
    "    dff = dff[filtered_columns]\n",
    "    dff_ranked = dff.groupby(\"pilot\").agg({\n",
    "        \"planet\": \"max\",\n",
    "        \"trip_completed\": \"sum\",\n",
    "        \"pilot_rating\": \"mean\",\n",
    "        \"price\": \"sum\",\n",
    "        \"trip_duration\": \"mean\"\n",
    "    }).sort_values(\"trip_completed\", ascending=False)\n",
    "    dff_ranked = dff_ranked.reset_index()\n",
    "    dff_ranked[\"price\"] = dff_ranked[\"price\"].map(\n",
    "        lambda x: \"{:,.2f}\".format(x))\n",
    "    dff_ranked[\"trip_duration\"] = dff_ranked[\"trip_duration\"].map(\n",
    "        lambda x: \"{}:{:02d}\".format(*divmod(int(x), 60)))\n",
    "    dff_ranked[\"pilot_rating\"] = dff_ranked[\"pilot_rating\"].round(2)\n",
    "    dff_ranked = pad_df(dff_ranked, filtered_columns, top)\n",
    "    dff_ranked = dff_ranked[filtered_columns]\n",
    "    \n",
    "    return dff_ranked[:top]"
   ]
  },
  {
   "cell_type": "markdown",
   "metadata": {},
   "source": [
    "### show tests"
   ]
  },
  {
   "cell_type": "code",
   "execution_count": 17,
   "metadata": {},
   "outputs": [
    {
     "data": {
      "text/html": [
       "<div>\n",
       "<style>\n",
       "    .dataframe thead tr:only-child th {\n",
       "        text-align: right;\n",
       "    }\n",
       "\n",
       "    .dataframe thead th {\n",
       "        text-align: left;\n",
       "    }\n",
       "\n",
       "    .dataframe tbody tr th {\n",
       "        vertical-align: top;\n",
       "    }\n",
       "</style>\n",
       "<table border=\"1\" class=\"dataframe\">\n",
       "  <thead>\n",
       "    <tr style=\"text-align: right;\">\n",
       "      <th></th>\n",
       "      <th>pilot</th>\n",
       "      <th>planet</th>\n",
       "      <th>trip_completed</th>\n",
       "      <th>trip_duration</th>\n",
       "      <th>price</th>\n",
       "      <th>pilot_rating</th>\n",
       "    </tr>\n",
       "  </thead>\n",
       "  <tbody>\n",
       "    <tr>\n",
       "      <th>0</th>\n",
       "      <td>76</td>\n",
       "      <td>Coruscant</td>\n",
       "      <td>135</td>\n",
       "      <td>32:43</td>\n",
       "      <td>121,431.00</td>\n",
       "      <td>4.38</td>\n",
       "    </tr>\n",
       "    <tr>\n",
       "      <th>1</th>\n",
       "      <td>6</td>\n",
       "      <td>Coruscant</td>\n",
       "      <td>134</td>\n",
       "      <td>34:10</td>\n",
       "      <td>133,065.00</td>\n",
       "      <td>4.28</td>\n",
       "    </tr>\n",
       "    <tr>\n",
       "      <th>2</th>\n",
       "      <td>29</td>\n",
       "      <td>Coruscant</td>\n",
       "      <td>134</td>\n",
       "      <td>32:06</td>\n",
       "      <td>124,122.00</td>\n",
       "      <td>4.37</td>\n",
       "    </tr>\n",
       "  </tbody>\n",
       "</table>\n",
       "</div>"
      ],
      "text/plain": [
       "  pilot     planet trip_completed trip_duration       price pilot_rating\n",
       "0    76  Coruscant            135         32:43  121,431.00         4.38\n",
       "1     6  Coruscant            134         34:10  133,065.00         4.28\n",
       "2    29  Coruscant            134         32:06  124,122.00         4.37"
      ]
     },
     "execution_count": 17,
     "metadata": {},
     "output_type": "execute_result"
    }
   ],
   "source": [
    "get_table_pilots(df_trips, \"all\", \"coruscant\")"
   ]
  },
  {
   "cell_type": "code",
   "execution_count": 18,
   "metadata": {},
   "outputs": [
    {
     "data": {
      "text/html": [
       "<div>\n",
       "<style>\n",
       "    .dataframe thead tr:only-child th {\n",
       "        text-align: right;\n",
       "    }\n",
       "\n",
       "    .dataframe thead th {\n",
       "        text-align: left;\n",
       "    }\n",
       "\n",
       "    .dataframe tbody tr th {\n",
       "        vertical-align: top;\n",
       "    }\n",
       "</style>\n",
       "<table border=\"1\" class=\"dataframe\">\n",
       "  <thead>\n",
       "    <tr style=\"text-align: right;\">\n",
       "      <th></th>\n",
       "      <th>pilot</th>\n",
       "      <th>planet</th>\n",
       "      <th>trip_completed</th>\n",
       "      <th>trip_duration</th>\n",
       "      <th>price</th>\n",
       "      <th>pilot_rating</th>\n",
       "    </tr>\n",
       "  </thead>\n",
       "  <tbody>\n",
       "    <tr>\n",
       "      <th>0</th>\n",
       "      <td>56</td>\n",
       "      <td>Coruscant</td>\n",
       "      <td>105</td>\n",
       "      <td>32:36</td>\n",
       "      <td>100,980.00</td>\n",
       "      <td>4.31</td>\n",
       "    </tr>\n",
       "    <tr>\n",
       "      <th>1</th>\n",
       "      <td>15</td>\n",
       "      <td>Hosnian Prime</td>\n",
       "      <td>101</td>\n",
       "      <td>31:39</td>\n",
       "      <td>94,404.00</td>\n",
       "      <td>4.49</td>\n",
       "    </tr>\n",
       "    <tr>\n",
       "      <th>2</th>\n",
       "      <td>1</td>\n",
       "      <td>Corellia</td>\n",
       "      <td>92</td>\n",
       "      <td>30:24</td>\n",
       "      <td>82,144.00</td>\n",
       "      <td>4.33</td>\n",
       "    </tr>\n",
       "  </tbody>\n",
       "</table>\n",
       "</div>"
      ],
      "text/plain": [
       "  pilot         planet trip_completed trip_duration       price pilot_rating\n",
       "0    56      Coruscant            105         32:36  100,980.00         4.31\n",
       "1    15  Hosnian Prime            101         31:39   94,404.00         4.49\n",
       "2     1       Corellia             92         30:24   82,144.00         4.33"
      ]
     },
     "execution_count": 18,
     "metadata": {},
     "output_type": "execute_result"
    }
   ],
   "source": [
    "get_table_pilots(df_trips, 12, \"all\")"
   ]
  },
  {
   "cell_type": "code",
   "execution_count": 19,
   "metadata": {},
   "outputs": [
    {
     "data": {
      "text/html": [
       "<div>\n",
       "<style>\n",
       "    .dataframe thead tr:only-child th {\n",
       "        text-align: right;\n",
       "    }\n",
       "\n",
       "    .dataframe thead th {\n",
       "        text-align: left;\n",
       "    }\n",
       "\n",
       "    .dataframe tbody tr th {\n",
       "        vertical-align: top;\n",
       "    }\n",
       "</style>\n",
       "<table border=\"1\" class=\"dataframe\">\n",
       "  <thead>\n",
       "    <tr style=\"text-align: right;\">\n",
       "      <th></th>\n",
       "      <th>pilot</th>\n",
       "      <th>planet</th>\n",
       "      <th>trip_completed</th>\n",
       "      <th>trip_duration</th>\n",
       "      <th>price</th>\n",
       "      <th>pilot_rating</th>\n",
       "    </tr>\n",
       "  </thead>\n",
       "  <tbody>\n",
       "    <tr>\n",
       "      <th>0</th>\n",
       "      <td>6</td>\n",
       "      <td>Coruscant</td>\n",
       "      <td>1</td>\n",
       "      <td>55:23</td>\n",
       "      <td>1,994.00</td>\n",
       "      <td>1</td>\n",
       "    </tr>\n",
       "    <tr>\n",
       "      <th>1</th>\n",
       "      <td>-</td>\n",
       "      <td>-</td>\n",
       "      <td>-</td>\n",
       "      <td>-</td>\n",
       "      <td>-</td>\n",
       "      <td>-</td>\n",
       "    </tr>\n",
       "    <tr>\n",
       "      <th>2</th>\n",
       "      <td>-</td>\n",
       "      <td>-</td>\n",
       "      <td>-</td>\n",
       "      <td>-</td>\n",
       "      <td>-</td>\n",
       "      <td>-</td>\n",
       "    </tr>\n",
       "  </tbody>\n",
       "</table>\n",
       "</div>"
      ],
      "text/plain": [
       "  pilot     planet trip_completed trip_duration     price pilot_rating\n",
       "0     6  Coruscant              1         55:23  1,994.00            1\n",
       "1     -          -              -             -         -            -\n",
       "2     -          -              -             -         -            -"
      ]
     },
     "execution_count": 19,
     "metadata": {},
     "output_type": "execute_result"
    }
   ],
   "source": [
    "get_table_pilots(df_trips, 1, \"all\")"
   ]
  },
  {
   "cell_type": "markdown",
   "metadata": {},
   "source": [
    "## get_table_users"
   ]
  },
  {
   "cell_type": "code",
   "execution_count": 20,
   "metadata": {},
   "outputs": [],
   "source": [
    "def get_table_users(df, user_type, month=\"all\", planet=\"all\", top=3):\n",
    "    \"\"\"Returns an html.Table object containing user statistics,\n",
    "    filtered by month and planet.\"\"\"\n",
    "    \n",
    "    user_rating = user_type + \"_rating\"  # example: \"pilot_rating\"\n",
    "    user_label = user_type.capitalize() + \" ID\"  # example: \"Pilot ID\"\n",
    "\n",
    "    filtered_columns = [\n",
    "        user_type, \"planet\", \"trip_completed\", \"trip_duration\",\n",
    "        \"price\", user_rating\n",
    "    ]\n",
    "\n",
    "    dff = df.copy(deep=True)\n",
    "    dff = filter_df(dff, month=month, planet=planet)\n",
    "    dff = dff[filtered_columns]\n",
    "    dff_ranked = dff.groupby(user_type).agg({\n",
    "        \"planet\": \"max\",\n",
    "        \"trip_completed\": \"sum\",\n",
    "        user_rating: \"mean\",\n",
    "        \"price\": \"sum\",\n",
    "        \"trip_duration\": \"mean\"\n",
    "    }).sort_values(\"trip_completed\", ascending=False)\n",
    "    dff_ranked = dff_ranked.reset_index()\n",
    "    dff_ranked[\"price\"] = dff_ranked[\"price\"].map(\n",
    "        lambda x: \"{:,.2f}\".format(x))\n",
    "    dff_ranked[\"trip_duration\"] = dff_ranked[\"trip_duration\"].map(\n",
    "        lambda x: \"{}:{:02d}\".format(*divmod(int(x), 60)))\n",
    "    dff_ranked[user_rating] = dff_ranked[user_rating].round(2)\n",
    "    dff_ranked = pad_df(dff_ranked, filtered_columns, top)\n",
    "    dff_ranked = dff_ranked[filtered_columns]\n",
    "    \n",
    "    return dff_ranked[:top]"
   ]
  },
  {
   "cell_type": "markdown",
   "metadata": {},
   "source": [
    "### show_tests"
   ]
  },
  {
   "cell_type": "code",
   "execution_count": 21,
   "metadata": {},
   "outputs": [
    {
     "data": {
      "text/html": [
       "<div>\n",
       "<style>\n",
       "    .dataframe thead tr:only-child th {\n",
       "        text-align: right;\n",
       "    }\n",
       "\n",
       "    .dataframe thead th {\n",
       "        text-align: left;\n",
       "    }\n",
       "\n",
       "    .dataframe tbody tr th {\n",
       "        vertical-align: top;\n",
       "    }\n",
       "</style>\n",
       "<table border=\"1\" class=\"dataframe\">\n",
       "  <thead>\n",
       "    <tr style=\"text-align: right;\">\n",
       "      <th></th>\n",
       "      <th>pilot</th>\n",
       "      <th>planet</th>\n",
       "      <th>trip_completed</th>\n",
       "      <th>trip_duration</th>\n",
       "      <th>price</th>\n",
       "      <th>pilot_rating</th>\n",
       "    </tr>\n",
       "  </thead>\n",
       "  <tbody>\n",
       "    <tr>\n",
       "      <th>0</th>\n",
       "      <td>56</td>\n",
       "      <td>Coruscant</td>\n",
       "      <td>105</td>\n",
       "      <td>32:36</td>\n",
       "      <td>100,980.00</td>\n",
       "      <td>4.31</td>\n",
       "    </tr>\n",
       "    <tr>\n",
       "      <th>1</th>\n",
       "      <td>15</td>\n",
       "      <td>Hosnian Prime</td>\n",
       "      <td>101</td>\n",
       "      <td>31:39</td>\n",
       "      <td>94,404.00</td>\n",
       "      <td>4.49</td>\n",
       "    </tr>\n",
       "    <tr>\n",
       "      <th>2</th>\n",
       "      <td>1</td>\n",
       "      <td>Corellia</td>\n",
       "      <td>92</td>\n",
       "      <td>30:24</td>\n",
       "      <td>82,144.00</td>\n",
       "      <td>4.33</td>\n",
       "    </tr>\n",
       "  </tbody>\n",
       "</table>\n",
       "</div>"
      ],
      "text/plain": [
       "  pilot         planet trip_completed trip_duration       price pilot_rating\n",
       "0    56      Coruscant            105         32:36  100,980.00         4.31\n",
       "1    15  Hosnian Prime            101         31:39   94,404.00         4.49\n",
       "2     1       Corellia             92         30:24   82,144.00         4.33"
      ]
     },
     "execution_count": 21,
     "metadata": {},
     "output_type": "execute_result"
    }
   ],
   "source": [
    "get_table_users(df_trips, \"pilot\", month=12)"
   ]
  },
  {
   "cell_type": "code",
   "execution_count": 22,
   "metadata": {},
   "outputs": [
    {
     "data": {
      "text/html": [
       "<div>\n",
       "<style>\n",
       "    .dataframe thead tr:only-child th {\n",
       "        text-align: right;\n",
       "    }\n",
       "\n",
       "    .dataframe thead th {\n",
       "        text-align: left;\n",
       "    }\n",
       "\n",
       "    .dataframe tbody tr th {\n",
       "        vertical-align: top;\n",
       "    }\n",
       "</style>\n",
       "<table border=\"1\" class=\"dataframe\">\n",
       "  <thead>\n",
       "    <tr style=\"text-align: right;\">\n",
       "      <th></th>\n",
       "      <th>passenger</th>\n",
       "      <th>planet</th>\n",
       "      <th>trip_completed</th>\n",
       "      <th>trip_duration</th>\n",
       "      <th>price</th>\n",
       "      <th>passenger_rating</th>\n",
       "    </tr>\n",
       "  </thead>\n",
       "  <tbody>\n",
       "    <tr>\n",
       "      <th>0</th>\n",
       "      <td>888</td>\n",
       "      <td>Coruscant</td>\n",
       "      <td>17</td>\n",
       "      <td>27:33</td>\n",
       "      <td>13,151.00</td>\n",
       "      <td>4.47</td>\n",
       "    </tr>\n",
       "    <tr>\n",
       "      <th>1</th>\n",
       "      <td>588</td>\n",
       "      <td>Coruscant</td>\n",
       "      <td>17</td>\n",
       "      <td>28:52</td>\n",
       "      <td>13,772.00</td>\n",
       "      <td>3.94</td>\n",
       "    </tr>\n",
       "    <tr>\n",
       "      <th>2</th>\n",
       "      <td>277</td>\n",
       "      <td>Coruscant</td>\n",
       "      <td>16</td>\n",
       "      <td>34:16</td>\n",
       "      <td>15,789.00</td>\n",
       "      <td>4.47</td>\n",
       "    </tr>\n",
       "  </tbody>\n",
       "</table>\n",
       "</div>"
      ],
      "text/plain": [
       "  passenger     planet trip_completed trip_duration      price  \\\n",
       "0       888  Coruscant             17         27:33  13,151.00   \n",
       "1       588  Coruscant             17         28:52  13,772.00   \n",
       "2       277  Coruscant             16         34:16  15,789.00   \n",
       "\n",
       "  passenger_rating  \n",
       "0             4.47  \n",
       "1             3.94  \n",
       "2             4.47  "
      ]
     },
     "execution_count": 22,
     "metadata": {},
     "output_type": "execute_result"
    }
   ],
   "source": [
    "get_table_users(df_trips, \"passenger\", month=12)"
   ]
  },
  {
   "cell_type": "markdown",
   "metadata": {},
   "source": [
    "## get_table_users with average"
   ]
  },
  {
   "cell_type": "code",
   "execution_count": 23,
   "metadata": {
    "collapsed": true
   },
   "outputs": [],
   "source": [
    "def get_table_users(df, user_type, month=\"all\", planet=\"all\", top=3):\n",
    "    \"\"\"Returns an html.Table object containing user statistics,\n",
    "    filtered by month and planet.\"\"\"\n",
    "    \n",
    "    user_rating = user_type + \"_rating\"  # example: \"pilot_rating\"\n",
    "    user_label = user_type.capitalize()  # example: \"Pilot\"\n",
    "\n",
    "    filtered_columns = [\n",
    "        user_type, \"planet\", \"trip_completed\", \"trip_duration\",\n",
    "        \"price\", user_rating\n",
    "    ]\n",
    "\n",
    "    dff = df.copy(deep=True)\n",
    "    dff = filter_df(dff, month=month, planet=planet)\n",
    "    dff = dff[filtered_columns]\n",
    "    dff_ranked = dff.groupby(user_type).agg({\n",
    "        \"planet\": \"max\",\n",
    "        \"trip_completed\": \"sum\",\n",
    "        user_rating: \"mean\",\n",
    "        \"price\": \"sum\",\n",
    "        \"trip_duration\": \"mean\"\n",
    "    }).sort_values(\"trip_completed\", ascending=False)\n",
    "    dff_ranked = dff_ranked.reset_index()\n",
    "    dff_ranked.loc[\"Average \" + user_label] = dff_ranked.mean()\n",
    "    \n",
    "    dff_ranked[\"trip_completed\"] = dff_ranked[\"trip_completed\"].round(0)\n",
    "    dff_ranked[\"price\"] = dff_ranked[\"price\"].map(\n",
    "        lambda x: \"{:,.2f}\".format(x))\n",
    "    dff_ranked[\"trip_duration\"] = dff_ranked[\"trip_duration\"].map(\n",
    "        lambda x: \"{}:{:02d}\".format(*divmod(int(x), 60)))\n",
    "    dff_ranked[user_rating] = dff_ranked[user_rating].round(2)\n",
    "    \n",
    "    dff_ranked_average = dff_ranked.loc[\"Average \" + user_label]\n",
    "    dff_ranked_average = pd.DataFrame(dff_ranked_average).T\n",
    "    dff_ranked_average.loc[\"Average \" + user_label, user_type] = \"-\"\n",
    "    dff_ranked_average.loc[\"Average \" + user_label, \"planet\"] = \"-\"\n",
    "    \n",
    "    dff_ranked = pad_df(dff_ranked, filtered_columns, top)\n",
    "    dff_ranked = pd.concat((dff_ranked, dff_ranked_average))\n",
    "    dff_ranked = dff_ranked[filtered_columns]\n",
    "    \n",
    "    return dff_ranked"
   ]
  },
  {
   "cell_type": "code",
   "execution_count": 24,
   "metadata": {},
   "outputs": [
    {
     "data": {
      "text/html": [
       "<div>\n",
       "<style>\n",
       "    .dataframe thead tr:only-child th {\n",
       "        text-align: right;\n",
       "    }\n",
       "\n",
       "    .dataframe thead th {\n",
       "        text-align: left;\n",
       "    }\n",
       "\n",
       "    .dataframe tbody tr th {\n",
       "        vertical-align: top;\n",
       "    }\n",
       "</style>\n",
       "<table border=\"1\" class=\"dataframe\">\n",
       "  <thead>\n",
       "    <tr style=\"text-align: right;\">\n",
       "      <th></th>\n",
       "      <th>pilot</th>\n",
       "      <th>planet</th>\n",
       "      <th>trip_completed</th>\n",
       "      <th>trip_duration</th>\n",
       "      <th>price</th>\n",
       "      <th>pilot_rating</th>\n",
       "    </tr>\n",
       "  </thead>\n",
       "  <tbody>\n",
       "    <tr>\n",
       "      <th>0</th>\n",
       "      <td>56</td>\n",
       "      <td>Coruscant</td>\n",
       "      <td>105</td>\n",
       "      <td>32:36</td>\n",
       "      <td>100,980.00</td>\n",
       "      <td>4.31</td>\n",
       "    </tr>\n",
       "    <tr>\n",
       "      <th>1</th>\n",
       "      <td>15</td>\n",
       "      <td>Hosnian Prime</td>\n",
       "      <td>101</td>\n",
       "      <td>31:39</td>\n",
       "      <td>94,404.00</td>\n",
       "      <td>4.49</td>\n",
       "    </tr>\n",
       "    <tr>\n",
       "      <th>2</th>\n",
       "      <td>1</td>\n",
       "      <td>Corellia</td>\n",
       "      <td>92</td>\n",
       "      <td>30:24</td>\n",
       "      <td>82,144.00</td>\n",
       "      <td>4.33</td>\n",
       "    </tr>\n",
       "    <tr>\n",
       "      <th>Average Pilot</th>\n",
       "      <td>-</td>\n",
       "      <td>-</td>\n",
       "      <td>40</td>\n",
       "      <td>32:44</td>\n",
       "      <td>37,533.34</td>\n",
       "      <td>4.39</td>\n",
       "    </tr>\n",
       "  </tbody>\n",
       "</table>\n",
       "</div>"
      ],
      "text/plain": [
       "              pilot         planet trip_completed trip_duration       price  \\\n",
       "0                56      Coruscant            105         32:36  100,980.00   \n",
       "1                15  Hosnian Prime            101         31:39   94,404.00   \n",
       "2                 1       Corellia             92         30:24   82,144.00   \n",
       "Average Pilot     -              -             40         32:44   37,533.34   \n",
       "\n",
       "              pilot_rating  \n",
       "0                     4.31  \n",
       "1                     4.49  \n",
       "2                     4.33  \n",
       "Average Pilot         4.39  "
      ]
     },
     "execution_count": 24,
     "metadata": {},
     "output_type": "execute_result"
    }
   ],
   "source": [
    "get_table_users(df_trips, \"pilot\", month=12)"
   ]
  },
  {
   "cell_type": "code",
   "execution_count": 25,
   "metadata": {
    "scrolled": true
   },
   "outputs": [
    {
     "data": {
      "text/html": [
       "<div>\n",
       "<style>\n",
       "    .dataframe thead tr:only-child th {\n",
       "        text-align: right;\n",
       "    }\n",
       "\n",
       "    .dataframe thead th {\n",
       "        text-align: left;\n",
       "    }\n",
       "\n",
       "    .dataframe tbody tr th {\n",
       "        vertical-align: top;\n",
       "    }\n",
       "</style>\n",
       "<table border=\"1\" class=\"dataframe\">\n",
       "  <thead>\n",
       "    <tr style=\"text-align: right;\">\n",
       "      <th></th>\n",
       "      <th>passenger</th>\n",
       "      <th>planet</th>\n",
       "      <th>trip_completed</th>\n",
       "      <th>trip_duration</th>\n",
       "      <th>price</th>\n",
       "      <th>passenger_rating</th>\n",
       "    </tr>\n",
       "  </thead>\n",
       "  <tbody>\n",
       "    <tr>\n",
       "      <th>0</th>\n",
       "      <td>888</td>\n",
       "      <td>Coruscant</td>\n",
       "      <td>17</td>\n",
       "      <td>27:33</td>\n",
       "      <td>13,151.00</td>\n",
       "      <td>4.47</td>\n",
       "    </tr>\n",
       "    <tr>\n",
       "      <th>1</th>\n",
       "      <td>588</td>\n",
       "      <td>Coruscant</td>\n",
       "      <td>17</td>\n",
       "      <td>28:52</td>\n",
       "      <td>13,772.00</td>\n",
       "      <td>3.94</td>\n",
       "    </tr>\n",
       "    <tr>\n",
       "      <th>2</th>\n",
       "      <td>277</td>\n",
       "      <td>Coruscant</td>\n",
       "      <td>16</td>\n",
       "      <td>34:16</td>\n",
       "      <td>15,789.00</td>\n",
       "      <td>4.47</td>\n",
       "    </tr>\n",
       "    <tr>\n",
       "      <th>Average Passenger</th>\n",
       "      <td>-</td>\n",
       "      <td>-</td>\n",
       "      <td>4</td>\n",
       "      <td>32:37</td>\n",
       "      <td>3,885.44</td>\n",
       "      <td>4.26</td>\n",
       "    </tr>\n",
       "  </tbody>\n",
       "</table>\n",
       "</div>"
      ],
      "text/plain": [
       "                  passenger     planet trip_completed trip_duration  \\\n",
       "0                       888  Coruscant             17         27:33   \n",
       "1                       588  Coruscant             17         28:52   \n",
       "2                       277  Coruscant             16         34:16   \n",
       "Average Passenger         -          -              4         32:37   \n",
       "\n",
       "                       price passenger_rating  \n",
       "0                  13,151.00             4.47  \n",
       "1                  13,772.00             3.94  \n",
       "2                  15,789.00             4.47  \n",
       "Average Passenger   3,885.44             4.26  "
      ]
     },
     "execution_count": 25,
     "metadata": {},
     "output_type": "execute_result"
    }
   ],
   "source": [
    "get_table_users(df_trips, \"passenger\", month=12)"
   ]
  }
 ],
 "metadata": {
  "kernelspec": {
   "display_name": "Python 2",
   "language": "python",
   "name": "python2"
  },
  "language_info": {
   "codemirror_mode": {
    "name": "ipython",
    "version": 2
   },
   "file_extension": ".py",
   "mimetype": "text/x-python",
   "name": "python",
   "nbconvert_exporter": "python",
   "pygments_lexer": "ipython2",
   "version": "2.7.14"
  }
 },
 "nbformat": 4,
 "nbformat_minor": 2
}
